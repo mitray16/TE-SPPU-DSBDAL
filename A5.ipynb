{
 "cells": [
  {
   "cell_type": "code",
   "execution_count": 1,
   "id": "e5b948f7",
   "metadata": {},
   "outputs": [],
   "source": [
    "import pandas as pd"
   ]
  },
  {
   "cell_type": "code",
   "execution_count": 3,
   "id": "32f8a66e",
   "metadata": {},
   "outputs": [],
   "source": [
    "df = pd.read_csv('Social_Network_Ads.csv')"
   ]
  },
  {
   "cell_type": "code",
   "execution_count": 4,
   "id": "9e573cd7",
   "metadata": {},
   "outputs": [
    {
     "data": {
      "text/html": [
       "<div>\n",
       "<style scoped>\n",
       "    .dataframe tbody tr th:only-of-type {\n",
       "        vertical-align: middle;\n",
       "    }\n",
       "\n",
       "    .dataframe tbody tr th {\n",
       "        vertical-align: top;\n",
       "    }\n",
       "\n",
       "    .dataframe thead th {\n",
       "        text-align: right;\n",
       "    }\n",
       "</style>\n",
       "<table border=\"1\" class=\"dataframe\">\n",
       "  <thead>\n",
       "    <tr style=\"text-align: right;\">\n",
       "      <th></th>\n",
       "      <th>User ID</th>\n",
       "      <th>Gender</th>\n",
       "      <th>Age</th>\n",
       "      <th>EstimatedSalary</th>\n",
       "      <th>Purchased</th>\n",
       "    </tr>\n",
       "  </thead>\n",
       "  <tbody>\n",
       "    <tr>\n",
       "      <th>0</th>\n",
       "      <td>15624510</td>\n",
       "      <td>Male</td>\n",
       "      <td>19</td>\n",
       "      <td>19000</td>\n",
       "      <td>0</td>\n",
       "    </tr>\n",
       "    <tr>\n",
       "      <th>1</th>\n",
       "      <td>15810944</td>\n",
       "      <td>Male</td>\n",
       "      <td>35</td>\n",
       "      <td>20000</td>\n",
       "      <td>0</td>\n",
       "    </tr>\n",
       "    <tr>\n",
       "      <th>2</th>\n",
       "      <td>15668575</td>\n",
       "      <td>Female</td>\n",
       "      <td>26</td>\n",
       "      <td>43000</td>\n",
       "      <td>0</td>\n",
       "    </tr>\n",
       "    <tr>\n",
       "      <th>3</th>\n",
       "      <td>15603246</td>\n",
       "      <td>Female</td>\n",
       "      <td>27</td>\n",
       "      <td>57000</td>\n",
       "      <td>0</td>\n",
       "    </tr>\n",
       "    <tr>\n",
       "      <th>4</th>\n",
       "      <td>15804002</td>\n",
       "      <td>Male</td>\n",
       "      <td>19</td>\n",
       "      <td>76000</td>\n",
       "      <td>0</td>\n",
       "    </tr>\n",
       "    <tr>\n",
       "      <th>...</th>\n",
       "      <td>...</td>\n",
       "      <td>...</td>\n",
       "      <td>...</td>\n",
       "      <td>...</td>\n",
       "      <td>...</td>\n",
       "    </tr>\n",
       "    <tr>\n",
       "      <th>395</th>\n",
       "      <td>15691863</td>\n",
       "      <td>Female</td>\n",
       "      <td>46</td>\n",
       "      <td>41000</td>\n",
       "      <td>1</td>\n",
       "    </tr>\n",
       "    <tr>\n",
       "      <th>396</th>\n",
       "      <td>15706071</td>\n",
       "      <td>Male</td>\n",
       "      <td>51</td>\n",
       "      <td>23000</td>\n",
       "      <td>1</td>\n",
       "    </tr>\n",
       "    <tr>\n",
       "      <th>397</th>\n",
       "      <td>15654296</td>\n",
       "      <td>Female</td>\n",
       "      <td>50</td>\n",
       "      <td>20000</td>\n",
       "      <td>1</td>\n",
       "    </tr>\n",
       "    <tr>\n",
       "      <th>398</th>\n",
       "      <td>15755018</td>\n",
       "      <td>Male</td>\n",
       "      <td>36</td>\n",
       "      <td>33000</td>\n",
       "      <td>0</td>\n",
       "    </tr>\n",
       "    <tr>\n",
       "      <th>399</th>\n",
       "      <td>15594041</td>\n",
       "      <td>Female</td>\n",
       "      <td>49</td>\n",
       "      <td>36000</td>\n",
       "      <td>1</td>\n",
       "    </tr>\n",
       "  </tbody>\n",
       "</table>\n",
       "<p>400 rows × 5 columns</p>\n",
       "</div>"
      ],
      "text/plain": [
       "      User ID  Gender  Age  EstimatedSalary  Purchased\n",
       "0    15624510    Male   19            19000          0\n",
       "1    15810944    Male   35            20000          0\n",
       "2    15668575  Female   26            43000          0\n",
       "3    15603246  Female   27            57000          0\n",
       "4    15804002    Male   19            76000          0\n",
       "..        ...     ...  ...              ...        ...\n",
       "395  15691863  Female   46            41000          1\n",
       "396  15706071    Male   51            23000          1\n",
       "397  15654296  Female   50            20000          1\n",
       "398  15755018    Male   36            33000          0\n",
       "399  15594041  Female   49            36000          1\n",
       "\n",
       "[400 rows x 5 columns]"
      ]
     },
     "execution_count": 4,
     "metadata": {},
     "output_type": "execute_result"
    }
   ],
   "source": [
    "df"
   ]
  },
  {
   "cell_type": "code",
   "execution_count": 5,
   "id": "24c57116",
   "metadata": {},
   "outputs": [
    {
     "data": {
      "text/html": [
       "<div>\n",
       "<style scoped>\n",
       "    .dataframe tbody tr th:only-of-type {\n",
       "        vertical-align: middle;\n",
       "    }\n",
       "\n",
       "    .dataframe tbody tr th {\n",
       "        vertical-align: top;\n",
       "    }\n",
       "\n",
       "    .dataframe thead th {\n",
       "        text-align: right;\n",
       "    }\n",
       "</style>\n",
       "<table border=\"1\" class=\"dataframe\">\n",
       "  <thead>\n",
       "    <tr style=\"text-align: right;\">\n",
       "      <th></th>\n",
       "      <th>User ID</th>\n",
       "      <th>Age</th>\n",
       "      <th>EstimatedSalary</th>\n",
       "      <th>Purchased</th>\n",
       "    </tr>\n",
       "  </thead>\n",
       "  <tbody>\n",
       "    <tr>\n",
       "      <th>count</th>\n",
       "      <td>4.000000e+02</td>\n",
       "      <td>400.000000</td>\n",
       "      <td>400.000000</td>\n",
       "      <td>400.000000</td>\n",
       "    </tr>\n",
       "    <tr>\n",
       "      <th>mean</th>\n",
       "      <td>1.569154e+07</td>\n",
       "      <td>37.655000</td>\n",
       "      <td>69742.500000</td>\n",
       "      <td>0.357500</td>\n",
       "    </tr>\n",
       "    <tr>\n",
       "      <th>std</th>\n",
       "      <td>7.165832e+04</td>\n",
       "      <td>10.482877</td>\n",
       "      <td>34096.960282</td>\n",
       "      <td>0.479864</td>\n",
       "    </tr>\n",
       "    <tr>\n",
       "      <th>min</th>\n",
       "      <td>1.556669e+07</td>\n",
       "      <td>18.000000</td>\n",
       "      <td>15000.000000</td>\n",
       "      <td>0.000000</td>\n",
       "    </tr>\n",
       "    <tr>\n",
       "      <th>25%</th>\n",
       "      <td>1.562676e+07</td>\n",
       "      <td>29.750000</td>\n",
       "      <td>43000.000000</td>\n",
       "      <td>0.000000</td>\n",
       "    </tr>\n",
       "    <tr>\n",
       "      <th>50%</th>\n",
       "      <td>1.569434e+07</td>\n",
       "      <td>37.000000</td>\n",
       "      <td>70000.000000</td>\n",
       "      <td>0.000000</td>\n",
       "    </tr>\n",
       "    <tr>\n",
       "      <th>75%</th>\n",
       "      <td>1.575036e+07</td>\n",
       "      <td>46.000000</td>\n",
       "      <td>88000.000000</td>\n",
       "      <td>1.000000</td>\n",
       "    </tr>\n",
       "    <tr>\n",
       "      <th>max</th>\n",
       "      <td>1.581524e+07</td>\n",
       "      <td>60.000000</td>\n",
       "      <td>150000.000000</td>\n",
       "      <td>1.000000</td>\n",
       "    </tr>\n",
       "  </tbody>\n",
       "</table>\n",
       "</div>"
      ],
      "text/plain": [
       "            User ID         Age  EstimatedSalary   Purchased\n",
       "count  4.000000e+02  400.000000       400.000000  400.000000\n",
       "mean   1.569154e+07   37.655000     69742.500000    0.357500\n",
       "std    7.165832e+04   10.482877     34096.960282    0.479864\n",
       "min    1.556669e+07   18.000000     15000.000000    0.000000\n",
       "25%    1.562676e+07   29.750000     43000.000000    0.000000\n",
       "50%    1.569434e+07   37.000000     70000.000000    0.000000\n",
       "75%    1.575036e+07   46.000000     88000.000000    1.000000\n",
       "max    1.581524e+07   60.000000    150000.000000    1.000000"
      ]
     },
     "execution_count": 5,
     "metadata": {},
     "output_type": "execute_result"
    }
   ],
   "source": [
    "df.describe()"
   ]
  },
  {
   "cell_type": "code",
   "execution_count": 6,
   "id": "ba98143b",
   "metadata": {},
   "outputs": [
    {
     "name": "stdout",
     "output_type": "stream",
     "text": [
      "<class 'pandas.core.frame.DataFrame'>\n",
      "RangeIndex: 400 entries, 0 to 399\n",
      "Data columns (total 5 columns):\n",
      " #   Column           Non-Null Count  Dtype \n",
      "---  ------           --------------  ----- \n",
      " 0   User ID          400 non-null    int64 \n",
      " 1   Gender           400 non-null    object\n",
      " 2   Age              400 non-null    int64 \n",
      " 3   EstimatedSalary  400 non-null    int64 \n",
      " 4   Purchased        400 non-null    int64 \n",
      "dtypes: int64(4), object(1)\n",
      "memory usage: 15.8+ KB\n"
     ]
    }
   ],
   "source": [
    "df.info()"
   ]
  },
  {
   "cell_type": "code",
   "execution_count": 7,
   "id": "ce0d9768",
   "metadata": {},
   "outputs": [
    {
     "data": {
      "text/html": [
       "<div>\n",
       "<style scoped>\n",
       "    .dataframe tbody tr th:only-of-type {\n",
       "        vertical-align: middle;\n",
       "    }\n",
       "\n",
       "    .dataframe tbody tr th {\n",
       "        vertical-align: top;\n",
       "    }\n",
       "\n",
       "    .dataframe thead th {\n",
       "        text-align: right;\n",
       "    }\n",
       "</style>\n",
       "<table border=\"1\" class=\"dataframe\">\n",
       "  <thead>\n",
       "    <tr style=\"text-align: right;\">\n",
       "      <th></th>\n",
       "      <th>User ID</th>\n",
       "      <th>Gender</th>\n",
       "      <th>Age</th>\n",
       "      <th>EstimatedSalary</th>\n",
       "      <th>Purchased</th>\n",
       "    </tr>\n",
       "  </thead>\n",
       "  <tbody>\n",
       "    <tr>\n",
       "      <th>0</th>\n",
       "      <td>False</td>\n",
       "      <td>False</td>\n",
       "      <td>False</td>\n",
       "      <td>False</td>\n",
       "      <td>False</td>\n",
       "    </tr>\n",
       "    <tr>\n",
       "      <th>1</th>\n",
       "      <td>False</td>\n",
       "      <td>False</td>\n",
       "      <td>False</td>\n",
       "      <td>False</td>\n",
       "      <td>False</td>\n",
       "    </tr>\n",
       "    <tr>\n",
       "      <th>2</th>\n",
       "      <td>False</td>\n",
       "      <td>False</td>\n",
       "      <td>False</td>\n",
       "      <td>False</td>\n",
       "      <td>False</td>\n",
       "    </tr>\n",
       "    <tr>\n",
       "      <th>3</th>\n",
       "      <td>False</td>\n",
       "      <td>False</td>\n",
       "      <td>False</td>\n",
       "      <td>False</td>\n",
       "      <td>False</td>\n",
       "    </tr>\n",
       "    <tr>\n",
       "      <th>4</th>\n",
       "      <td>False</td>\n",
       "      <td>False</td>\n",
       "      <td>False</td>\n",
       "      <td>False</td>\n",
       "      <td>False</td>\n",
       "    </tr>\n",
       "    <tr>\n",
       "      <th>...</th>\n",
       "      <td>...</td>\n",
       "      <td>...</td>\n",
       "      <td>...</td>\n",
       "      <td>...</td>\n",
       "      <td>...</td>\n",
       "    </tr>\n",
       "    <tr>\n",
       "      <th>395</th>\n",
       "      <td>False</td>\n",
       "      <td>False</td>\n",
       "      <td>False</td>\n",
       "      <td>False</td>\n",
       "      <td>False</td>\n",
       "    </tr>\n",
       "    <tr>\n",
       "      <th>396</th>\n",
       "      <td>False</td>\n",
       "      <td>False</td>\n",
       "      <td>False</td>\n",
       "      <td>False</td>\n",
       "      <td>False</td>\n",
       "    </tr>\n",
       "    <tr>\n",
       "      <th>397</th>\n",
       "      <td>False</td>\n",
       "      <td>False</td>\n",
       "      <td>False</td>\n",
       "      <td>False</td>\n",
       "      <td>False</td>\n",
       "    </tr>\n",
       "    <tr>\n",
       "      <th>398</th>\n",
       "      <td>False</td>\n",
       "      <td>False</td>\n",
       "      <td>False</td>\n",
       "      <td>False</td>\n",
       "      <td>False</td>\n",
       "    </tr>\n",
       "    <tr>\n",
       "      <th>399</th>\n",
       "      <td>False</td>\n",
       "      <td>False</td>\n",
       "      <td>False</td>\n",
       "      <td>False</td>\n",
       "      <td>False</td>\n",
       "    </tr>\n",
       "  </tbody>\n",
       "</table>\n",
       "<p>400 rows × 5 columns</p>\n",
       "</div>"
      ],
      "text/plain": [
       "     User ID  Gender    Age  EstimatedSalary  Purchased\n",
       "0      False   False  False            False      False\n",
       "1      False   False  False            False      False\n",
       "2      False   False  False            False      False\n",
       "3      False   False  False            False      False\n",
       "4      False   False  False            False      False\n",
       "..       ...     ...    ...              ...        ...\n",
       "395    False   False  False            False      False\n",
       "396    False   False  False            False      False\n",
       "397    False   False  False            False      False\n",
       "398    False   False  False            False      False\n",
       "399    False   False  False            False      False\n",
       "\n",
       "[400 rows x 5 columns]"
      ]
     },
     "execution_count": 7,
     "metadata": {},
     "output_type": "execute_result"
    }
   ],
   "source": [
    "df.isnull()"
   ]
  },
  {
   "cell_type": "code",
   "execution_count": 9,
   "id": "96fa0631",
   "metadata": {},
   "outputs": [
    {
     "data": {
      "text/plain": [
       "User ID            0\n",
       "Gender             0\n",
       "Age                0\n",
       "EstimatedSalary    0\n",
       "Purchased          0\n",
       "dtype: int64"
      ]
     },
     "execution_count": 9,
     "metadata": {},
     "output_type": "execute_result"
    }
   ],
   "source": [
    "df.isnull().sum()"
   ]
  },
  {
   "cell_type": "code",
   "execution_count": 10,
   "id": "20d6df87",
   "metadata": {},
   "outputs": [],
   "source": [
    "from sklearn.model_selection import train_test_split"
   ]
  },
  {
   "cell_type": "code",
   "execution_count": 28,
   "id": "f9f6c654",
   "metadata": {},
   "outputs": [
    {
     "data": {
      "text/plain": [
       "0      0\n",
       "1      0\n",
       "2      0\n",
       "3      0\n",
       "4      0\n",
       "      ..\n",
       "395    1\n",
       "396    1\n",
       "397    1\n",
       "398    0\n",
       "399    1\n",
       "Name: Purchased, Length: 400, dtype: int64"
      ]
     },
     "execution_count": 28,
     "metadata": {},
     "output_type": "execute_result"
    }
   ],
   "source": [
    "x=df.iloc[:,2:4]\n",
    "y=df.iloc[:,-1]\n",
    "x\n",
    "y"
   ]
  },
  {
   "cell_type": "code",
   "execution_count": 29,
   "id": "51728c19",
   "metadata": {},
   "outputs": [],
   "source": [
    "X_train,X_test,Y_train,Y_test=train_test_split(x,y,test_size=0.20,random_state=42)"
   ]
  },
  {
   "cell_type": "code",
   "execution_count": 30,
   "id": "0d2f1514",
   "metadata": {},
   "outputs": [
    {
     "data": {
      "text/plain": [
       "(320, 2)"
      ]
     },
     "execution_count": 30,
     "metadata": {},
     "output_type": "execute_result"
    }
   ],
   "source": [
    "X_train.shape\n"
   ]
  },
  {
   "cell_type": "code",
   "execution_count": 31,
   "id": "2e6a0fd8",
   "metadata": {},
   "outputs": [
    {
     "data": {
      "text/plain": [
       "(80, 2)"
      ]
     },
     "execution_count": 31,
     "metadata": {},
     "output_type": "execute_result"
    }
   ],
   "source": [
    "X_test.shape\n"
   ]
  },
  {
   "cell_type": "code",
   "execution_count": 32,
   "id": "f3d37e95",
   "metadata": {},
   "outputs": [
    {
     "data": {
      "text/plain": [
       "(320,)"
      ]
     },
     "execution_count": 32,
     "metadata": {},
     "output_type": "execute_result"
    }
   ],
   "source": [
    "Y_train.shape\n"
   ]
  },
  {
   "cell_type": "code",
   "execution_count": 33,
   "id": "397b1620",
   "metadata": {},
   "outputs": [
    {
     "data": {
      "text/plain": [
       "(80, 2)"
      ]
     },
     "execution_count": 33,
     "metadata": {},
     "output_type": "execute_result"
    }
   ],
   "source": [
    "X_test.shape\n"
   ]
  },
  {
   "cell_type": "code",
   "execution_count": 34,
   "id": "4ee6df96",
   "metadata": {},
   "outputs": [],
   "source": [
    "from sklearn.preprocessing import StandardScaler"
   ]
  },
  {
   "cell_type": "code",
   "execution_count": 35,
   "id": "1c6d4d17",
   "metadata": {},
   "outputs": [],
   "source": [
    "sc= StandardScaler()"
   ]
  },
  {
   "cell_type": "code",
   "execution_count": 36,
   "id": "761e40f8",
   "metadata": {},
   "outputs": [
    {
     "data": {
      "text/plain": [
       "array([[-1.06675246, -0.38634438],\n",
       "       [ 0.79753468, -1.22993871],\n",
       "       [ 0.11069205,  1.853544  ],\n",
       "       [ 0.60129393, -0.90995465],\n",
       "       [ 1.87685881, -1.28811763],\n",
       "       [-0.57615058,  1.44629156],\n",
       "       [ 0.3069328 , -0.53179168],\n",
       "       [ 0.99377543,  0.10817643],\n",
       "       [-1.16487283,  0.45724994],\n",
       "       [-1.55735433,  0.31180264],\n",
       "       [ 1.0918958 ,  0.45724994],\n",
       "       [-0.18366908, -0.47361276],\n",
       "       [ 0.20881242, -0.32816546],\n",
       "       [ 0.3069328 ,  0.28271318],\n",
       "       [-1.16487283, -1.57901222],\n",
       "       [ 0.11069205,  0.25362372],\n",
       "       [ 2.07309956,  1.73718616],\n",
       "       [ 0.40505317, -0.18271817],\n",
       "       [ 1.4843773 ,  2.11534913],\n",
       "       [-0.37990983,  1.21357589],\n",
       "       [ 1.87685881,  1.50447048],\n",
       "       [ 0.11069205,  0.02090805],\n",
       "       [ 0.89565505, -1.31720709],\n",
       "       [-1.36111358, -1.49174384],\n",
       "       [-0.18366908, -0.5899706 ],\n",
       "       [-0.57615058,  2.31897535],\n",
       "       [ 0.99377543, -1.20084925],\n",
       "       [-0.77239133,  1.06812859],\n",
       "       [ 2.17121993, -1.05540195],\n",
       "       [ 0.01257167, -0.26998655],\n",
       "       [-0.4780302 , -1.14267033],\n",
       "       [ 0.11069205,  0.02090805],\n",
       "       [ 1.68061805, -0.90995465],\n",
       "       [ 1.0918958 , -0.90995465],\n",
       "       [ 0.50317355,  1.21357589],\n",
       "       [-1.06675246, -1.46265438],\n",
       "       [-1.16487283, -1.54992276],\n",
       "       [-0.0855487 ,  0.66087616],\n",
       "       [ 0.40505317, -0.47361276],\n",
       "       [-0.28178945, -0.26998655],\n",
       "       [-0.87051171,  0.13726589],\n",
       "       [ 0.01257167,  0.28271318],\n",
       "       [ 0.6994143 , -1.28811763],\n",
       "       [ 1.58249768,  1.09721805],\n",
       "       [ 0.79753468, -1.37538601],\n",
       "       [-1.45923396, -1.22993871],\n",
       "       [-0.0855487 ,  0.13726589],\n",
       "       [ 0.40505317, -0.15362871],\n",
       "       [-0.28178945,  0.02090805],\n",
       "       [ 1.28813655,  2.20261751],\n",
       "       [ 0.11069205,  0.74814454],\n",
       "       [-1.36111358,  0.54451832],\n",
       "       [ 1.97497918,  0.71905508],\n",
       "       [-1.26299321, -1.40447546],\n",
       "       [ 0.3069328 , -0.32816546],\n",
       "       [-0.96863208,  0.54451832],\n",
       "       [ 0.40505317,  0.28271318],\n",
       "       [ 0.40505317,  1.09721805],\n",
       "       [ 0.79753468,  0.74814454],\n",
       "       [ 0.89565505,  1.24266535],\n",
       "       [-0.4780302 , -1.22993871],\n",
       "       [-1.85171546, -1.31720709],\n",
       "       [ 1.0918958 ,  0.54451832],\n",
       "       [-0.67427095, -1.60810168],\n",
       "       [-0.77239133,  0.25362372],\n",
       "       [ 0.99377543,  2.05717021],\n",
       "       [-0.57615058,  1.35902318],\n",
       "       [-0.0855487 ,  0.02090805],\n",
       "       [-1.94983583,  0.45724994],\n",
       "       [ 0.40505317,  0.25362372],\n",
       "       [-1.06675246,  0.39907102],\n",
       "       [ 0.20881242, -0.15362871],\n",
       "       [ 1.87685881,  0.10817643],\n",
       "       [-1.16487283, -1.60810168],\n",
       "       [-1.16487283,  0.28271318],\n",
       "       [-0.87051171, -0.79359682],\n",
       "       [-0.4780302 ,  2.28988589],\n",
       "       [ 0.11069205, -0.82268628],\n",
       "       [ 1.58249768,  0.98086021],\n",
       "       [-0.18366908, -1.08449141],\n",
       "       [ 0.79753468, -1.11358087],\n",
       "       [ 0.20881242,  2.08625967],\n",
       "       [-0.0855487 , -0.24089709],\n",
       "       [-0.87051171,  2.26079643],\n",
       "       [-0.0855487 , -0.38634438],\n",
       "       [-0.28178945, -0.5899706 ],\n",
       "       [ 0.40505317, -0.50270222],\n",
       "       [-0.28178945, -0.93904411],\n",
       "       [ 0.3069328 , -1.17175979],\n",
       "       [ 0.20881242,  0.04999751],\n",
       "       [-1.16487283, -1.60810168],\n",
       "       [-0.67427095, -0.06636033],\n",
       "       [-0.28178945, -0.50270222],\n",
       "       [-0.28178945, -1.31720709],\n",
       "       [-0.77239133,  0.54451832],\n",
       "       [ 0.3069328 ,  0.04999751],\n",
       "       [-0.96863208,  1.53355994],\n",
       "       [ 0.79753468,  0.3408921 ],\n",
       "       [-1.55735433, -0.21180763],\n",
       "       [ 0.6994143 , -1.40447546],\n",
       "       [-0.77239133, -0.61906006],\n",
       "       [-0.37990983, -1.31720709],\n",
       "       [ 0.20881242,  0.13726589],\n",
       "       [-0.57615058,  1.35902318],\n",
       "       [-1.45923396,  0.3408921 ],\n",
       "       [-1.16487283,  0.28271318],\n",
       "       [ 0.99377543,  1.76627562],\n",
       "       [ 2.07309956,  2.11534913],\n",
       "       [-0.28178945, -0.4445233 ],\n",
       "       [-0.37990983, -0.79359682],\n",
       "       [ 0.11069205, -0.26998655],\n",
       "       [-1.06675246,  0.74814454],\n",
       "       [ 2.17121993,  0.36998156],\n",
       "       [-1.36111358, -0.4445233 ],\n",
       "       [ 1.97497918,  2.14443859],\n",
       "       [ 1.4843773 ,  0.98086021],\n",
       "       [-0.28178945,  0.25362372],\n",
       "       [-0.18366908,  0.83541291],\n",
       "       [ 1.87685881, -0.29907601],\n",
       "       [-0.0855487 ,  1.94081237],\n",
       "       [-0.4780302 , -0.79359682],\n",
       "       [ 0.3069328 ,  0.02090805],\n",
       "       [ 1.38625693, -1.43356492],\n",
       "       [ 1.38625693,  2.31897535],\n",
       "       [-0.0855487 , -0.00818141],\n",
       "       [-1.16487283,  0.39907102],\n",
       "       [-1.16487283,  0.04999751],\n",
       "       [-1.16487283, -0.53179168],\n",
       "       [ 0.3069328 , -0.29907601],\n",
       "       [-0.67427095, -0.12453925],\n",
       "       [-0.0855487 ,  2.14443859],\n",
       "       [ 0.01257167, -0.26998655],\n",
       "       [-0.67427095, -1.05540195],\n",
       "       [ 0.40505317,  0.13726589],\n",
       "       [ 0.79753468,  1.35902318],\n",
       "       [-0.18366908, -0.53179168],\n",
       "       [ 0.01257167,  0.02090805],\n",
       "       [ 1.0918958 ,  0.51542886],\n",
       "       [ 1.87685881, -1.08449141],\n",
       "       [ 0.99377543,  1.96990183],\n",
       "       [ 0.89565505, -0.5899706 ],\n",
       "       [-0.4780302 , -0.03727087],\n",
       "       [-0.0855487 ,  2.20261751],\n",
       "       [-1.75359508,  0.3408921 ],\n",
       "       [ 0.20881242, -0.67723898],\n",
       "       [-0.28178945, -1.40447546],\n",
       "       [-1.75359508, -0.99722303],\n",
       "       [ 0.6994143 , -0.7354179 ],\n",
       "       [-1.16487283, -0.79359682],\n",
       "       [ 1.97497918,  0.89359183],\n",
       "       [ 0.20881242, -0.38634438],\n",
       "       [ 0.01257167,  1.21357589],\n",
       "       [-0.0855487 ,  0.28271318],\n",
       "       [ 1.0918958 , -1.22993871],\n",
       "       [-0.18366908,  0.13726589],\n",
       "       [ 0.3069328 ,  0.04999751],\n",
       "       [-0.28178945, -0.29907601],\n",
       "       [ 0.50317355,  1.7080967 ],\n",
       "       [ 0.3069328 ,  0.4863394 ],\n",
       "       [ 0.01257167,  1.24266535],\n",
       "       [ 1.97497918, -1.37538601],\n",
       "       [-1.16487283, -1.11358087],\n",
       "       [-0.57615058, -1.5208333 ],\n",
       "       [ 0.3069328 , -0.53179168],\n",
       "       [-0.67427095, -1.5208333 ],\n",
       "       [-0.28178945,  0.51542886],\n",
       "       [ 0.99377543, -1.02631249],\n",
       "       [-1.06675246,  0.54451832],\n",
       "       [-0.28178945,  0.777234  ],\n",
       "       [ 0.40505317,  0.07908697],\n",
       "       [-1.65547471, -0.06636033],\n",
       "       [ 0.3069328 ,  0.04999751],\n",
       "       [-0.4780302 , -0.29907601],\n",
       "       [ 0.11069205,  1.853544  ],\n",
       "       [-0.96863208,  0.39907102],\n",
       "       [ 0.79753468,  0.51542886],\n",
       "       [-1.36111358, -0.35725492],\n",
       "       [-0.67427095,  1.38811264],\n",
       "       [ 1.19001618,  0.51542886],\n",
       "       [-1.75359508,  0.3408921 ],\n",
       "       [-0.57615058,  1.88263345],\n",
       "       [-1.75359508,  0.45724994],\n",
       "       [-0.28178945, -1.25902817],\n",
       "       [-0.87051171, -0.79359682],\n",
       "       [-1.65547471,  0.51542886],\n",
       "       [-0.28178945, -0.32816546],\n",
       "       [ 0.6994143 , -1.11358087],\n",
       "       [ 2.17121993, -0.82268628],\n",
       "       [-0.28178945,  0.60269724],\n",
       "       [-0.28178945, -0.76450736],\n",
       "       [-1.94983583, -0.76450736],\n",
       "       [ 0.40505317,  2.28988589],\n",
       "       [ 0.6994143 ,  0.25362372],\n",
       "       [ 0.20881242, -0.29907601],\n",
       "       [-1.36111358, -1.37538601],\n",
       "       [-0.4780302 , -0.56088114],\n",
       "       [ 0.40505317, -0.00818141],\n",
       "       [ 1.68061805,  1.73718616],\n",
       "       [ 1.19001618, -0.76450736],\n",
       "       [ 0.99377543,  1.4172021 ],\n",
       "       [-1.85171546,  0.16635535],\n",
       "       [ 0.3069328 ,  0.04999751],\n",
       "       [ 0.20881242,  0.02090805],\n",
       "       [-1.06675246,  0.51542886],\n",
       "       [-0.18366908,  1.62082832],\n",
       "       [-0.28178945,  0.13726589],\n",
       "       [-0.28178945, -0.35725492],\n",
       "       [-0.37990983,  1.30084427],\n",
       "       [-0.28178945,  0.07908697],\n",
       "       [ 2.17121993,  1.09721805],\n",
       "       [-1.26299321,  0.4863394 ],\n",
       "       [-1.06675246, -0.47361276],\n",
       "       [-1.65547471, -1.57901222],\n",
       "       [-0.0855487 ,  0.10817643],\n",
       "       [-0.28178945, -0.90995465],\n",
       "       [ 1.58249768, -0.00818141],\n",
       "       [ 0.89565505, -1.17175979],\n",
       "       [ 0.01257167, -0.5899706 ],\n",
       "       [-0.28178945,  2.23170697],\n",
       "       [-0.28178945,  0.19544481],\n",
       "       [ 0.3069328 ,  0.25362372],\n",
       "       [-0.0855487 , -1.08449141],\n",
       "       [ 2.17121993, -0.70632844],\n",
       "       [-0.96863208, -0.32816546],\n",
       "       [-1.45923396, -0.12453925],\n",
       "       [-1.45923396, -0.21180763],\n",
       "       [-0.77239133, -1.54992276],\n",
       "       [-1.26299321, -1.08449141],\n",
       "       [ 2.07309956,  0.36998156],\n",
       "       [ 1.97497918, -0.93904411],\n",
       "       [-1.94983583,  0.3408921 ],\n",
       "       [ 0.79753468, -0.32816546],\n",
       "       [-1.06675246, -1.54992276],\n",
       "       [ 1.97497918, -0.67723898],\n",
       "       [ 0.99377543, -1.17175979],\n",
       "       [ 1.0918958 , -0.15362871],\n",
       "       [ 1.19001618, -0.99722303],\n",
       "       [ 1.4843773 ,  0.04999751],\n",
       "       [ 0.20881242, -0.38634438],\n",
       "       [ 1.38625693,  1.27175481],\n",
       "       [ 2.07309956, -0.82268628],\n",
       "       [-0.18366908, -0.21180763],\n",
       "       [ 0.40505317,  0.98086021],\n",
       "       [-0.0855487 , -0.53179168],\n",
       "       [ 0.99377543, -1.08449141],\n",
       "       [ 2.07309956, -1.20084925],\n",
       "       [-0.0855487 ,  0.25362372],\n",
       "       [ 0.20881242, -0.26998655],\n",
       "       [ 1.0918958 ,  0.10817643],\n",
       "       [-1.26299321,  0.57360778],\n",
       "       [-0.77239133, -1.60810168],\n",
       "       [ 0.20881242,  0.22453427],\n",
       "       [-1.36111358,  0.39907102],\n",
       "       [ 0.01257167, -0.5899706 ],\n",
       "       [ 0.6994143 ,  1.76627562],\n",
       "       [-1.65547471,  0.04999751],\n",
       "       [-0.28178945, -1.37538601],\n",
       "       [-0.28178945, -1.46265438],\n",
       "       [-0.67427095,  0.54451832],\n",
       "       [-0.77239133,  0.28271318],\n",
       "       [ 0.89565505, -0.67723898],\n",
       "       [-1.06675246,  0.57360778],\n",
       "       [-0.28178945,  0.04999751],\n",
       "       [-0.77239133,  1.32993372],\n",
       "       [ 0.11069205,  1.50447048],\n",
       "       [-0.87051171,  0.36998156],\n",
       "       [ 0.3069328 , -0.21180763],\n",
       "       [ 0.99377543,  0.57360778],\n",
       "       [ 0.01257167, -0.32816546],\n",
       "       [-0.57615058, -1.5208333 ],\n",
       "       [ 0.11069205,  0.13726589],\n",
       "       [-1.16487283,  0.31180264],\n",
       "       [ 0.11069205,  1.03903913],\n",
       "       [-1.55735433, -0.4445233 ],\n",
       "       [-0.18366908,  1.38811264],\n",
       "       [ 2.17121993, -0.82268628],\n",
       "       [-0.96863208, -0.4445233 ],\n",
       "       [ 1.28813655,  1.853544  ],\n",
       "       [ 1.0918958 , -1.22993871],\n",
       "       [-0.18366908, -0.29907601],\n",
       "       [ 1.77873843,  0.98086021],\n",
       "       [-1.06675246, -0.35725492],\n",
       "       [-1.36111358, -1.11358087],\n",
       "       [-0.37990983,  0.04999751],\n",
       "       [-0.96863208, -1.11358087],\n",
       "       [ 1.19001618, -1.46265438],\n",
       "       [-0.4780302 , -0.85177573],\n",
       "       [-0.87051171, -0.67723898],\n",
       "       [-1.55735433, -1.5208333 ],\n",
       "       [-0.77239133,  1.88263345],\n",
       "       [ 0.89565505,  1.00994967],\n",
       "       [ 0.79753468,  0.25362372],\n",
       "       [ 0.99377543,  1.853544  ],\n",
       "       [ 0.89565505, -0.61906006],\n",
       "       [ 1.0918958 ,  2.05717021],\n",
       "       [-0.57615058,  0.86450237],\n",
       "       [ 0.01257167,  0.02090805],\n",
       "       [-1.85171546, -1.28811763],\n",
       "       [-0.0855487 ,  0.19544481],\n",
       "       [ 0.89565505, -0.56088114],\n",
       "       [ 0.20881242, -0.38634438],\n",
       "       [-0.18366908,  1.59173886],\n",
       "       [-1.75359508,  0.10817643],\n",
       "       [-0.67427095, -0.35725492],\n",
       "       [ 0.3069328 , -0.7354179 ],\n",
       "       [ 0.40505317, -0.47361276],\n",
       "       [-0.96863208, -0.96813357],\n",
       "       [ 0.11069205,  0.07908697],\n",
       "       [-0.96863208,  0.42816048],\n",
       "       [ 0.01257167, -0.56088114],\n",
       "       [ 0.89565505, -0.79359682],\n",
       "       [-0.0855487 ,  0.04999751],\n",
       "       [ 1.0918958 , -0.99722303],\n",
       "       [ 0.6994143 , -1.40447546],\n",
       "       [-0.28178945,  0.04999751],\n",
       "       [-1.36111358, -1.25902817],\n",
       "       [-1.16487283, -1.02631249],\n",
       "       [ 0.50317355,  1.82445454],\n",
       "       [ 0.11069205,  0.19544481],\n",
       "       [-0.57615058,  0.45724994]])"
      ]
     },
     "execution_count": 36,
     "metadata": {},
     "output_type": "execute_result"
    }
   ],
   "source": [
    "sc.fit_transform(X_train,X_test)"
   ]
  },
  {
   "cell_type": "code",
   "execution_count": 38,
   "id": "05f3e94f",
   "metadata": {},
   "outputs": [],
   "source": [
    "from sklearn.linear_model import LogisticRegression"
   ]
  },
  {
   "cell_type": "code",
   "execution_count": 40,
   "id": "47015be2",
   "metadata": {},
   "outputs": [],
   "source": [
    "le=LogisticRegression()"
   ]
  },
  {
   "cell_type": "code",
   "execution_count": 41,
   "id": "e312f0b7",
   "metadata": {},
   "outputs": [
    {
     "name": "stdout",
     "output_type": "stream",
     "text": [
      "     Age  EstimatedSalary\n",
      "209   46            22000\n",
      "280   59            88000\n",
      "33    28            44000\n",
      "210   48            96000\n",
      "93    29            28000\n",
      "84    30            62000\n",
      "329   47           107000\n",
      "94    29            83000\n",
      "266   40            75000\n",
      "126   42            65000\n",
      "-------------------------\n",
      "[0 0 0 0 0 0 0 0 0 0]\n"
     ]
    }
   ],
   "source": [
    "le.fit(X_train,Y_train)\n",
    "pred = le.predict(X_test)\n",
    "\n",
    "print(X_test[:10])\n",
    "print('-'*25)\n",
    "print(pred[:10])"
   ]
  },
  {
   "cell_type": "code",
   "execution_count": 42,
   "id": "bf12e1d6",
   "metadata": {},
   "outputs": [
    {
     "name": "stdout",
     "output_type": "stream",
     "text": [
      "Expected Output: [0 0 0 0 0 0 0 0 0 0]\n",
      "-------------------------\n",
      "Predicted Output:\n",
      " 209    0\n",
      "280    1\n",
      "33     0\n",
      "210    1\n",
      "93     0\n",
      "84     0\n",
      "329    1\n",
      "94     0\n",
      "266    0\n",
      "126    0\n",
      "Name: Purchased, dtype: int64\n"
     ]
    }
   ],
   "source": [
    "\n",
    "print('Expected Output:',pred[:10])\n",
    "print('-'*25)\n",
    "print('Predicted Output:\\n',Y_test[:10])"
   ]
  },
  {
   "cell_type": "code",
   "execution_count": 43,
   "id": "fb346995",
   "metadata": {},
   "outputs": [],
   "source": [
    "from sklearn.metrics import confusion_matrix"
   ]
  },
  {
   "cell_type": "code",
   "execution_count": 45,
   "id": "66a2385f",
   "metadata": {},
   "outputs": [
    {
     "name": "stdout",
     "output_type": "stream",
     "text": [
      "[[52  0]\n",
      " [28  0]]\n"
     ]
    }
   ],
   "source": [
    "\n",
    "matrix = confusion_matrix(Y_test,pred,labels=le.classes_)\n",
    "print(matrix)"
   ]
  },
  {
   "cell_type": "code",
   "execution_count": 46,
   "id": "bb5aef7b",
   "metadata": {},
   "outputs": [],
   "source": [
    " tp,fn,fp,tn = confusion_matrix(Y_test,pred,labels=[1,0]).reshape(-1)"
   ]
  },
  {
   "cell_type": "code",
   "execution_count": 51,
   "id": "b494827b",
   "metadata": {},
   "outputs": [],
   "source": [
    "from sklearn.metrics import ConfusionMatrixDisplay\n",
    "import matplotlib.pyplot as plt"
   ]
  },
  {
   "cell_type": "code",
   "execution_count": 53,
   "id": "c6980af2",
   "metadata": {},
   "outputs": [
    {
     "data": {
      "image/png": "[encoded data removed]",
      "text/plain": [
       "<Figure size 640x480 with 2 Axes>"
      ]
     },
     "metadata": {},
     "output_type": "display_data"
    }
   ],
   "source": [
    "\n",
    "conf_matrix=ConfusionMatrixDisplay(confusion_matrix=matrix,display_labels=le.classes_)\n",
    "conf_matrix.plot(cmap=plt.cm.Reds)\n",
    "plt.show()"
   ]
  },
  {
   "cell_type": "code",
   "execution_count": 70,
   "id": "5ed8893a",
   "metadata": {},
   "outputs": [],
   "source": [
    "from sklearn.metrics import classification_report,accuracy_score,precision_score,recall_score\n",
    "import numpy as np"
   ]
  },
  {
   "cell_type": "code",
   "execution_count": 71,
   "id": "f0b2e55a",
   "metadata": {},
   "outputs": [
    {
     "name": "stdout",
     "output_type": "stream",
     "text": [
      "              precision    recall  f1-score   support\n",
      "\n",
      "           0       0.65      1.00      0.79        52\n",
      "           1       0.00      0.00      0.00        28\n",
      "\n",
      "    accuracy                           0.65        80\n",
      "   macro avg       0.33      0.50      0.39        80\n",
      "weighted avg       0.42      0.65      0.51        80\n",
      "\n"
     ]
    },
    {
     "name": "stderr",
     "output_type": "stream",
     "text": [
      "C:\\Users\\mitra\\anaconda3\\lib\\site-packages\\sklearn\\metrics\\_classification.py:1344: UndefinedMetricWarning: Precision and F-score are ill-defined and being set to 0.0 in labels with no predicted samples. Use `zero_division` parameter to control this behavior.\n",
      "  _warn_prf(average, modifier, msg_start, len(result))\n",
      "C:\\Users\\mitra\\anaconda3\\lib\\site-packages\\sklearn\\metrics\\_classification.py:1344: UndefinedMetricWarning: Precision and F-score are ill-defined and being set to 0.0 in labels with no predicted samples. Use `zero_division` parameter to control this behavior.\n",
      "  _warn_prf(average, modifier, msg_start, len(result))\n",
      "C:\\Users\\mitra\\anaconda3\\lib\\site-packages\\sklearn\\metrics\\_classification.py:1344: UndefinedMetricWarning: Precision and F-score are ill-defined and being set to 0.0 in labels with no predicted samples. Use `zero_division` parameter to control this behavior.\n",
      "  _warn_prf(average, modifier, msg_start, len(result))\n"
     ]
    }
   ],
   "source": [
    "print(classification_report(Y_test,pred))"
   ]
  },
  {
   "cell_type": "code",
   "execution_count": 72,
   "id": "2d4a5a26",
   "metadata": {},
   "outputs": [
    {
     "name": "stdout",
     "output_type": "stream",
     "text": [
      "\n",
      "Accuracy: 0.65\n",
      "Error Rate:  0.35\n",
      "Sensitivity (Recall or True positive rate) : 0.0\n",
      "Specificity (True negative rate) : 1.0\n",
      "Precision (Positive predictive value) : nan\n",
      "False Positive Rate : 0.0\n"
     ]
    },
    {
     "name": "stderr",
     "output_type": "stream",
     "text": [
      "C:\\Users\\mitra\\AppData\\Local\\Temp\\ipykernel_16536\\1329449468.py:5: RuntimeWarning: invalid value encountered in longlong_scalars\n",
      "  print('Precision (Positive predictive value) :',tp/(tp+fp))\n"
     ]
    }
   ],
   "source": [
    "\n",
    "print('\\nAccuracy: {:.2f}'.format(accuracy_score(Y_test,pred)))\n",
    "print('Error Rate: ',(fp+fn)/(tp+tn+fn+fp))\n",
    "print('Sensitivity (Recall or True positive rate) :',tp/(tp+fn))\n",
    "print('Specificity (True negative rate) :',tn/(fp+tn))\n",
    "print('Precision (Positive predictive value) :',tp/(tp+fp))\n",
    "print('False Positive Rate :',fp/(tn+fp))"
   ]
  },
  {
   "cell_type": "code",
   "execution_count": 73,
   "id": "a5f544e0",
   "metadata": {},
   "outputs": [
    {
     "data": {
      "text/plain": [
       "0"
      ]
     },
     "execution_count": 73,
     "metadata": {},
     "output_type": "execute_result"
    }
   ],
   "source": [
    "tp"
   ]
  },
  {
   "cell_type": "code",
   "execution_count": 74,
   "id": "199ce17f",
   "metadata": {},
   "outputs": [
    {
     "data": {
      "text/plain": [
       "0"
      ]
     },
     "execution_count": 74,
     "metadata": {},
     "output_type": "execute_result"
    }
   ],
   "source": [
    "fp"
   ]
  },
  {
   "cell_type": "code",
   "execution_count": 75,
   "id": "8b7070cf",
   "metadata": {},
   "outputs": [
    {
     "data": {
      "text/plain": [
       "52"
      ]
     },
     "execution_count": 75,
     "metadata": {},
     "output_type": "execute_result"
    }
   ],
   "source": [
    "tn"
   ]
  },
  {
   "cell_type": "code",
   "execution_count": 76,
   "id": "03d6be33",
   "metadata": {},
   "outputs": [
    {
     "data": {
      "text/plain": [
       "28"
      ]
     },
     "execution_count": 76,
     "metadata": {},
     "output_type": "execute_result"
    }
   ],
   "source": [
    "fn"
   ]
  },
  {
   "cell_type": "code",
   "execution_count": null,
   "id": "4dbaa8d4",
   "metadata": {},
   "outputs": [],
   "source": []
  }
 ],
 "metadata": {
  "kernelspec": {
   "display_name": "Python 3 (ipykernel)",
   "language": "python",
   "name": "python3"
  },
  "language_info": {
   "codemirror_mode": {
    "name": "ipython",
    "version": 3
   },
   "file_extension": ".py",
   "mimetype": "text/x-python",
   "name": "python",
   "nbconvert_exporter": "python",
   "pygments_lexer": "ipython3",
   "version": "3.10.9"
  }
 },
 "nbformat": 4,
 "nbformat_minor": 5
}
